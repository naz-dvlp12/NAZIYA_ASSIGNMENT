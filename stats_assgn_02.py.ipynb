{
 "cells": [
  {
   "cell_type": "markdown",
   "metadata": {},
   "source": [
    "Problem Statement 1:\n",
    "In each of the following situations, state whether it is a correctly stated hypothesis\n",
    "testing problem and why?\n",
    "1. 𝐻0: 𝜇 = 25, 𝐻1: 𝜇 ≠ 25\n",
    "2. 𝐻0: 𝜎 > 10, 𝐻1: 𝜎 = 10\n",
    "3. 𝐻0: 𝑥 = 50, 𝐻1: 𝑥 ≠ 50\n",
    "4. 𝐻0: 𝑝 = 0.1, 𝐻1: 𝑝 = 0.5\n",
    "5. 𝐻0: 𝑠 = 30, 𝐻1: 𝑠 > 30"
   ]
  },
  {
   "cell_type": "code",
   "execution_count": 1,
   "metadata": {},
   "outputs": [
    {
     "name": "stdout",
     "output_type": "stream",
     "text": [
      "1. 𝐻0: 𝜇 = 25, 𝐻1: 𝜇 ≠ 25: It is correct. mu is a  population parameter. Null hypothesis contains equal sign. Alternate hypothesis contains not equal sign.\n",
      "\n",
      "2. 𝐻0: 𝜎 > 10, 𝐻1: 𝜎 = 10, It is wrong. It tells about population parameter but Null hypothesis does not contain equal sign rather alternate hypothesis contains equal sign.\n",
      "\n",
      "3. 𝐻0: 𝑥 = 50, 𝐻1: 𝑥 ≠ 50, It is wrong, becuase x is not a population parameter. \n",
      "\n",
      "4. 𝐻0: 𝑝 = 0.1, 𝐻1: 𝑝 = 0.5 It is wrong because alternate hypothesis contains equal sign.\n",
      "\n",
      "5. 𝐻0: 𝑠 = 30, 𝐻1: 𝑠 > 30 It is wrong because s is not population parameter.\n"
     ]
    }
   ],
   "source": [
    "print(\"1. 𝐻0: 𝜇 = 25, 𝐻1: 𝜇 ≠ 25: It is correct. mu is a  population parameter. Null hypothesis contains equal sign. Alternate hypothesis contains not equal sign.\\n\")\n",
    "print(\"2. 𝐻0: 𝜎 > 10, 𝐻1: 𝜎 = 10, It is wrong. It tells about population parameter but Null hypothesis does not contain equal sign rather alternate hypothesis contains equal sign.\\n\")\n",
    "print(\"3. 𝐻0: 𝑥 = 50, 𝐻1: 𝑥 ≠ 50, It is wrong, becuase x is not a population parameter. \\n\")\n",
    "print(\"4. 𝐻0: 𝑝 = 0.1, 𝐻1: 𝑝 = 0.5 It is wrong because alternate hypothesis contains equal sign.\\n\")\n",
    "print(\"5. 𝐻0: 𝑠 = 30, 𝐻1: 𝑠 > 30 It is wrong because s is not population parameter.\")"
   ]
  },
  {
   "cell_type": "code",
   "execution_count": null,
   "metadata": {},
   "outputs": [],
   "source": []
  },
  {
   "cell_type": "markdown",
   "metadata": {},
   "source": [
    "Problem Statement 2:\n",
    "The college bookstore tells prospective students that the average cost of its\n",
    "textbooks is Rs. 52 with a standard deviation of Rs. 4.50. A group of smart statistics\n",
    "students thinks that the average cost is higher. To test the bookstore’s claim against\n",
    "their alternative, the students will select a random sample of size 100. Assume that\n",
    "the mean from their random sample is Rs. 52.80. Perform a hypothesis test at the\n",
    "5% level of significance and state your decision."
   ]
  },
  {
   "cell_type": "code",
   "execution_count": 2,
   "metadata": {},
   "outputs": [
    {
     "name": "stdout",
     "output_type": "stream",
     "text": [
      "Z value is : 1.7777777777777715 and p value is : 0.0377201798134007\n",
      "p = 0.0377 < 0.10 therefore we reject the null hypothesis\n",
      "There is sufficient evidence to suggest that the population mean is greater than 52,\n",
      "at the 0.10 significance level\n"
     ]
    }
   ],
   "source": [
    "from scipy import stats\n",
    "import math\n",
    "\n",
    "#H0 :  mu = 52 Ha : mu > 52\n",
    "\n",
    "mu= 52\n",
    "xbar=52.80\n",
    "S = 4.50\n",
    "n = 100\n",
    "alpha = 0.10\n",
    "Z = (xbar-mu)/((S)/(math.sqrt(n)))\n",
    "\n",
    "if (Z < 0):\n",
    "    p_val = stats.norm.cdf(Z)\n",
    "else:\n",
    "    p_val = 1-stats.norm.cdf(Z)\n",
    "    \n",
    "print(\"Z value is :\", Z , \"and p value is :\", p_val)\n",
    "print(\"p = 0.0377 < 0.10 therefore we reject the null hypothesis\")\n",
    "print('''There is sufficient evidence to suggest that the population mean is greater than 52,\n",
    "at the 0.10 significance level''')\n"
   ]
  },
  {
   "cell_type": "code",
   "execution_count": null,
   "metadata": {},
   "outputs": [],
   "source": []
  },
  {
   "cell_type": "markdown",
   "metadata": {},
   "source": [
    "Problem Statement 3:\n",
    "A certain chemical pollutant in the Genesee River has been constant for several\n",
    "years with mean μ = 34 ppm (parts per million) and standard deviation σ = 8 ppm. A\n",
    "group of factory representatives whose companies discharge liquids into the river is\n",
    "now claiming that they have lowered the average with improved filtration devices. A\n",
    "group of environmentalists will test to see if this is true at the 1% level of\n",
    "significance. Assume \\ that their sample of size 50 gives a mean of 32.5 ppm.\n",
    "Perform a hypothesis test at the 1% level of significance and state your decision."
   ]
  },
  {
   "cell_type": "code",
   "execution_count": 130,
   "metadata": {},
   "outputs": [
    {
     "name": "stdout",
     "output_type": "stream",
     "text": [
      "Z value is : -1.3258252147247767 and p value is : 0.0924487994828001\n",
      "Here p value is greater than alpha, therefore we fail to reject the null hypothesis\n",
      "\n",
      "There is insufficient evidence to support the claim.\n"
     ]
    }
   ],
   "source": [
    "from scipy import stats\n",
    "import math\n",
    "\n",
    "# H0 = 34 vs H1 <34\n",
    "\n",
    "mu = 34\n",
    "S = 8\n",
    "xbar=32.5\n",
    "n = 50\n",
    "alpha = 0.05\n",
    "Z = (xbar-mu)/((S)/(math.sqrt(n)))\n",
    "if (Z < 0):\n",
    "    p_val = stats.norm.cdf(Z)\n",
    "else:\n",
    "    p_val = 1-stats.norm.cdf(Z)\n",
    "    \n",
    "print(\"Z value is :\", Z , \"and p value is :\", p_val)\n",
    "print(\"Here p value is greater than alpha, therefore we fail to reject the null hypothesis\\n\")\n",
    "print(\"There is insufficient evidence to support the claim.\")"
   ]
  },
  {
   "cell_type": "code",
   "execution_count": null,
   "metadata": {},
   "outputs": [],
   "source": []
  },
  {
   "cell_type": "markdown",
   "metadata": {},
   "source": [
    "Problem Statement 4:\n",
    "Based on population figures and other general information on the U.S. population,\n",
    "suppose it has been estimated that, on average, a family of four in the U.S. spends\n",
    "about $1135 annually on dental expenditures. Suppose further that a regional dental\n",
    "association wants to test to determine if this figure is accurate for their area of\n",
    "country. To test this, 22 families of 4 are randomly selected from the population in\n",
    "that area of the country and a log is kept of the family’s dental expenditure for one\n",
    "year. The resulting data are given below. Assuming, that dental expenditure is\n",
    "normally distributed in the population, use the data and an alpha of 0.5 to test the\n",
    "dental association’s hypothesis.\n",
    "1008, 812, 1117, 1323, 1308, 1415, 831, 1021, 1287, 851, 930, 730, 699,\n",
    "872, 913, 944, 954, 987, 1695, 995, 1003, 994"
   ]
  },
  {
   "cell_type": "code",
   "execution_count": 52,
   "metadata": {},
   "outputs": [
    {
     "name": "stdout",
     "output_type": "stream",
     "text": [
      "\n",
      "xbar: 1031.3182\n",
      "\n",
      "Standard deviation : 234.848\n",
      "\n",
      "T calculated: -2.0707\n",
      "\n",
      "Since p value is greater than 0.05, we fail to reject null hypothesis: 0.565\n",
      "\n",
      "There is sufficient evidence to claim the average dental expenditure is 1135\n"
     ]
    }
   ],
   "source": [
    "import numpy as np\n",
    "from scipy import stats\n",
    "import math\n",
    "import pandas as pd\n",
    "\n",
    "#H0: mu  = 1135\n",
    "#H1: mu not equal to 1135\n",
    "\n",
    "\n",
    "aplha = 0.05\n",
    "list = [1008, 812, 1117, 1323, 1308, 1415, 831, 1021, 1287, 851, 930, 730, 699,\n",
    "872, 913, 944, 954, 987, 1695, 995, 1003, 994]\n",
    "n = 22\n",
    "mu = 1135\n",
    "xbar = np.mean(list)\n",
    "print(\"\\nxbar:\",(round(xbar,4)))\n",
    "S = np.std(list)\n",
    "print(\"\\nStandard deviation :\",(round(S,4)))\n",
    "\n",
    "#Test statistics : xbar-mu /s/rootn\n",
    "\n",
    "t = (xbar-mu)/((S)/(math.sqrt(n)))\n",
    "print(\"\\nT calculated:\", (round(t,4)))\n",
    "\n",
    "#pvalue p(tn-1>|tcal|)\n",
    "#p()\n",
    "\n",
    "p_value =stats.t.cdf(21, 0.025)\n",
    "\n",
    "print(\"\\nSince p value is greater than 0.05, we fail to reject null hypothesis:\", (round(p_value,4)))\n",
    "print(\"\\nThere is sufficient evidence to claim the average dental expenditure is 1135\")"
   ]
  },
  {
   "cell_type": "code",
   "execution_count": null,
   "metadata": {},
   "outputs": [],
   "source": []
  },
  {
   "cell_type": "markdown",
   "metadata": {},
   "source": [
    "Problem Statement 5:\n",
    "In a report prepared by the Economic Research Department of a major bank the\n",
    "Department manager maintains that the average annual family income on Metropolis\n",
    "is $48,432. What do you conclude about the validity of the report if a random sample\n",
    "of 400 families shows and average income of $48,574 with a standard deviation of\n",
    "2000?"
   ]
  },
  {
   "cell_type": "code",
   "execution_count": 5,
   "metadata": {},
   "outputs": [
    {
     "name": "stdout",
     "output_type": "stream",
     "text": [
      "1.42\n",
      "Since the test statistics: \", Z ,\"is less than 1.96 we do not reject the null hypothesis, \n",
      "and hence the report is valid\n"
     ]
    }
   ],
   "source": [
    "from scipy import stats\n",
    "import math\n",
    "\n",
    "#H0: mu = 48432 vs H1: mu not equal to 48432\n",
    "\n",
    "mu = 48432\n",
    "n = 400\n",
    "xbar = 48574\n",
    "s = 2000\n",
    "#Assuming alpha = 0.05 where the critical value is 1.96 in a two tail test\n",
    "\n",
    "#Z test\n",
    "Z = (xbar-mu)/((s)/(math.sqrt(n)))\n",
    "print(Z)\n",
    "print('''Since the test statistics: \", Z ,\"is less than 1.96 we do not reject the null hypothesis, \n",
    "and hence the report is valid''')\n"
   ]
  },
  {
   "cell_type": "code",
   "execution_count": null,
   "metadata": {},
   "outputs": [],
   "source": []
  },
  {
   "cell_type": "markdown",
   "metadata": {},
   "source": [
    "Problem Statement 6:\n",
    "Suppose that in past years the average price per square foot for warehouses in the\n",
    "United States has been $32.28. A national real estate investor wants to determine\n",
    "whether that figure has changed now. The investor hires a researcher who randomly\n",
    "samples 19 warehouses that are for sale across the United States and finds that the\n",
    "mean price per square foot is $31.67, with a standard deviation of $1.29. assume\n",
    "that the prices of warehouse footage are normally distributed in population. If the\n",
    "researcher uses a 5% level of significance, what statistical conclusion can be\n",
    "reached? What are the hypotheses?"
   ]
  },
  {
   "cell_type": "code",
   "execution_count": 48,
   "metadata": {},
   "outputs": [
    {
     "name": "stdout",
     "output_type": "stream",
     "text": [
      "\n",
      "Test statistics: -2.0612\n",
      "\n",
      "Since critical value is greatre than test statistics we accept H0. \n",
      "And conclude that the average price per square foot for warehouses in the\n",
      "United States has NOT CHANGED\n"
     ]
    }
   ],
   "source": [
    "from scipy import stats\n",
    "import math\n",
    "import numpy as np\n",
    "import pandas as pd\n",
    "#H0: mu = 32.28,  H1: mu not equal to 32.28\n",
    "n = 19\n",
    "xbar = 31.67\n",
    "mu = 32.28\n",
    "sd = 1.29\n",
    "#test statistic z = (xbar - mu)/(s/sqrt(n))\n",
    "\n",
    "Z = (xbar - mu)/((sd)/(math.sqrt(n)))\n",
    "print(\"\\nTest statistics:\",(round(Z,4)))\n",
    "#critical value at 95% confidence interval is +/- 1.96\n",
    "print('''\\nSince critical value is greatre than test statistics we accept H0. \n",
    "And conclude that the average price per square foot for warehouses in the\n",
    "United States has NOT CHANGED''')\n"
   ]
  },
  {
   "cell_type": "code",
   "execution_count": null,
   "metadata": {},
   "outputs": [],
   "source": []
  },
  {
   "cell_type": "markdown",
   "metadata": {},
   "source": [
    "problem statement 7: Fill in the blank spaces in the table and draw your conclusions from it.\n",
    "\n",
    "acceptance region.    sample size.   alpha.  beta at mue = 52.   beta at mue= 50.5\n",
    "48.5<xbar<51.5       10\n",
    "48<xbar<52.          10\n",
    "48.81<xbar<51.9.     16\n",
    "48.42<xbar<51.58.    16"
   ]
  },
  {
   "cell_type": "code",
   "execution_count": 138,
   "metadata": {},
   "outputs": [],
   "source": [
    "from scipy import stats\n",
    "import math\n",
    "from numpy.random import randn\n",
    "import numpy as np\n"
   ]
  },
  {
   "cell_type": "code",
   "execution_count": 144,
   "metadata": {},
   "outputs": [],
   "source": [
    "import pandas as pd "
   ]
  },
  {
   "cell_type": "code",
   "execution_count": 150,
   "metadata": {},
   "outputs": [
    {
     "data": {
      "text/html": [
       "<div>\n",
       "<style scoped>\n",
       "    .dataframe tbody tr th:only-of-type {\n",
       "        vertical-align: middle;\n",
       "    }\n",
       "\n",
       "    .dataframe tbody tr th {\n",
       "        vertical-align: top;\n",
       "    }\n",
       "\n",
       "    .dataframe thead th {\n",
       "        text-align: right;\n",
       "    }\n",
       "</style>\n",
       "<table border=\"1\" class=\"dataframe\">\n",
       "  <thead>\n",
       "    <tr style=\"text-align: right;\">\n",
       "      <th></th>\n",
       "      <th>Acceptance region</th>\n",
       "      <th>Sample size</th>\n",
       "      <th>Alpha</th>\n",
       "      <th>Beta at mu = 52</th>\n",
       "      <th>Beta at mu = 50.5</th>\n",
       "    </tr>\n",
       "  </thead>\n",
       "  <tbody>\n",
       "    <tr>\n",
       "      <td>0</td>\n",
       "      <td>48.5&lt;xbar&lt;51.5</td>\n",
       "      <td>10</td>\n",
       "      <td>0.0576</td>\n",
       "      <td>0.2634</td>\n",
       "      <td>0.8972</td>\n",
       "    </tr>\n",
       "    <tr>\n",
       "      <td>1</td>\n",
       "      <td>48&lt;xbar&lt;52</td>\n",
       "      <td>10</td>\n",
       "      <td>0.0114</td>\n",
       "      <td>0.5</td>\n",
       "      <td>0.9712</td>\n",
       "    </tr>\n",
       "    <tr>\n",
       "      <td>2</td>\n",
       "      <td>48.81&lt;xbar&lt;51.9</td>\n",
       "      <td>16</td>\n",
       "      <td>0.0297</td>\n",
       "      <td>0.4364</td>\n",
       "      <td>0.9875</td>\n",
       "    </tr>\n",
       "    <tr>\n",
       "      <td>3</td>\n",
       "      <td>48.42&lt;xbar&lt;51.58</td>\n",
       "      <td>16</td>\n",
       "      <td>0.0114</td>\n",
       "      <td>0.2508</td>\n",
       "      <td>0.958</td>\n",
       "    </tr>\n",
       "  </tbody>\n",
       "</table>\n",
       "</div>"
      ],
      "text/plain": [
       "  Acceptance region Sample size   Alpha Beta at mu = 52 Beta at mu = 50.5\n",
       "0    48.5<xbar<51.5          10  0.0576          0.2634            0.8972\n",
       "1        48<xbar<52          10  0.0114             0.5            0.9712\n",
       "2   48.81<xbar<51.9          16  0.0297          0.4364            0.9875\n",
       "3  48.42<xbar<51.58          16  0.0114          0.2508             0.958"
      ]
     },
     "execution_count": 150,
     "metadata": {},
     "output_type": "execute_result"
    }
   ],
   "source": [
    "list = [[48.5,50,.79],[51.5,50,.79],[48,50,.79],[52,50,.79],[48.81,50,.625],[51.9,50,.625],[48.42,50,.625],[51.58,50,.625]]\n",
    "a = []\n",
    "\n",
    "for i in list:\n",
    "    x =  i[0] \n",
    "    mu = i[1] \n",
    "    SEM =i[2]\n",
    "    z = (x - mu)/SEM\n",
    "    if (z < 0):\n",
    "        alpha  = stats.norm.cdf(z)\n",
    "    else:\n",
    "        alpha = 1-stats.norm.cdf(z)\n",
    "    a.append(round((alpha),4))\n",
    "\n",
    "\n",
    "alfa = []\n",
    "for o in range(0, len(d),2):\n",
    "    alfa.append(round((d[o]+d[o+1]),4))\n",
    "\n",
    "\n",
    "list3 = [[51.5,52,.79],[52,52,.79],[51.9,52,.625],[51.58,52,.625]]   \n",
    "b2 = []\n",
    "for j in list3:\n",
    "    xbar = j[0]\n",
    "    mu2 = j[1]\n",
    "    s = j[2]\n",
    "  #  Z2 = (xbar-mu2)/(sigma/np.sqrt(n)\n",
    "    Z2 = (xbar-mu2)/(s)\n",
    "    beta = stats.norm.cdf(Z2)\n",
    "    b2.append(round((beta),4))\n",
    "\n",
    "\n",
    "list4 = [[51.5,50.5,.79],[52,50.5,.79],[51.9,50.5,.625],[51.58,50.5,.625]]   \n",
    "b3 = []\n",
    "for k in list4:\n",
    "    xbar = k[0]\n",
    "    mu3 = k[1]\n",
    "    s = k[2]\n",
    "    Z3 = (xbar-mu3)/(s)\n",
    "    beta = stats.norm.cdf(Z3)\n",
    "    b3.append(round((beta),4))\n",
    "\n",
    "\n",
    "TI_TII_Er = {\n",
    "    \"Acceptance region\": [\"48.5<xbar<51.5\", \"48<xbar<52\", \"48.81<xbar<51.9\",\"48.42<xbar<51.58\"],\n",
    "    \"Sample size\" : [\"10\",\"10\",\"16\",\"16\"],\n",
    "    \"Alpha\" : [\"0.0576\", \"0.0114\", \"0.0297\", \"0.0114\"],\n",
    "    \"Beta at mu = 52\":[\"0.2634\", \"0.5\", \"0.4364\", \"0.2508\"],\n",
    "    \"Beta at mu = 50.5\":[\"0.8972\", \"0.9712\", \"0.9875\", \"0.958\"]\n",
    "}\n",
    "\n",
    "TI_TII_Er_df = pd.DataFrame(TI_TII_Er)\n",
    "TI_TII_Er_df"
   ]
  },
  {
   "cell_type": "code",
   "execution_count": null,
   "metadata": {},
   "outputs": [],
   "source": []
  },
  {
   "cell_type": "markdown",
   "metadata": {},
   "source": [
    "problem statement 8: Find the t-score for a sample size of 16 taken from a population with mean 10 when\n",
    "the sample mean is 12 and the sample standard deviation is 1.5.\n"
   ]
  },
  {
   "cell_type": "code",
   "execution_count": null,
   "metadata": {},
   "outputs": [],
   "source": []
  },
  {
   "cell_type": "code",
   "execution_count": 53,
   "metadata": {},
   "outputs": [
    {
     "name": "stdout",
     "output_type": "stream",
     "text": [
      "t_score: 5.3333\n"
     ]
    }
   ],
   "source": [
    "from scipy import stats\n",
    "import math\n",
    "\n",
    "n = 16\n",
    "mu = 10\n",
    "xbar = 12\n",
    "sample_sd = 1.5\n",
    "\n",
    "t = (xbar-mu)/((sample_sd)/(math.sqrt(n)))\n",
    "print(\"t_score:\",(round(t,4)) )\n"
   ]
  },
  {
   "cell_type": "code",
   "execution_count": null,
   "metadata": {},
   "outputs": [],
   "source": []
  },
  {
   "cell_type": "markdown",
   "metadata": {},
   "source": [
    "problem statement 9: Problem Statement 9:\n",
    "Find the t-score below which we can expect 99% of sample means will fall if samples\n",
    "of size 16 are taken from a normally distributed population."
   ]
  },
  {
   "cell_type": "code",
   "execution_count": 54,
   "metadata": {},
   "outputs": [
    {
     "name": "stdout",
     "output_type": "stream",
     "text": [
      "t_scores: 2.6025\n"
     ]
    }
   ],
   "source": [
    "from scipy import stats\n",
    "import math\n",
    "\n",
    "n = 16\n",
    "#noramlly distributed\n",
    "t = stats.t.ppf(1-0.01, 15)\n",
    "print(\"t_scores:\",(round(t,4)))"
   ]
  },
  {
   "cell_type": "code",
   "execution_count": null,
   "metadata": {},
   "outputs": [],
   "source": []
  },
  {
   "cell_type": "markdown",
   "metadata": {},
   "source": [
    "problem statement 10: If a random sample of size 25 drawn from a normal population gives a mean of 60\n",
    "and a standard deviation of 4, find the range of t-scores where we can expect to find\n",
    "the middle 95% of all sample means. Compute the probability that (−𝑡0.05 <𝑡<𝑡0.10).\n"
   ]
  },
  {
   "cell_type": "code",
   "execution_count": 31,
   "metadata": {},
   "outputs": [
    {
     "name": "stdout",
     "output_type": "stream",
     "text": [
      "t1 score: -2.0639\n",
      "t2 score: 2.0639\n",
      "\n",
      "Therefore the 95% middle range is: 58.34888 and 61.65112 respectively\n",
      "\n",
      "probabily that (−𝑡0.05 <𝑡<𝑡0.10): 0.0598\n"
     ]
    }
   ],
   "source": [
    "from scipy import stats\n",
    "import math\n",
    "\n",
    "# Let all sample mean of 95% lie between x1 and x2, with t score correspoding \n",
    "#to left tail at 0.05 significance i,e. -0.025 and 0.025 is t1 and t2.\n",
    "\n",
    "n = 25\n",
    "df = n-1\n",
    "mu = 60\n",
    "s = 4\n",
    "alpha = 0.05\n",
    "t1 = stats.t.ppf(0.025, 24)\n",
    "t1_score = (round(t1,4))\n",
    "print(\"t1 score:\", (t1_score))\n",
    "t2 = stats.t.ppf(1-0.025, 24)\n",
    "t2_score = (round(t2,4))\n",
    "print(\"t2 score:\",(round(t2_score,4)))\n",
    "#therefore the 95% middle range is \n",
    "x1 =(t1_score)*(((s)/(math.sqrt(n))))--mu\n",
    "x2 =(t2_score)*(((s)/(math.sqrt(n))))--mu\n",
    "print(\"\\nTherefore the 95% middle range is:\", x1 ,\"and\", x2, \"respectively\")\n",
    "#Compute the probability that (−𝑡0.05 <𝑡<𝑡0.10).\n",
    "q = 1-stats.norm.cdf(0.05)\n",
    "r = stats.norm.cdf(0.1)\n",
    "print(\"\\nprobabily that (−𝑡0.05 <𝑡<𝑡0.10):\", (round(r-q,4)))\n"
   ]
  },
  {
   "cell_type": "code",
   "execution_count": null,
   "metadata": {},
   "outputs": [],
   "source": []
  },
  {
   "cell_type": "markdown",
   "metadata": {},
   "source": [
    "Problem statement 11: Two-tailed test for difference between two population means Is there evidence to conclude that the number of people travelling from Bangalore to Chennai is different from the number of people travelling from Bangalore to Hosur in a week, given the following: Population 1: Bangalore to Chennai n1 = 1200 x1 = 452 s1 = 212 Population 2: Bangalore to Hosur n2 = 800 x2 = 523 s2 = 185\n"
   ]
  },
  {
   "cell_type": "code",
   "execution_count": 78,
   "metadata": {},
   "outputs": [
    {
     "name": "stdout",
     "output_type": "stream",
     "text": [
      "7.9264\n",
      "\n",
      "since abs(t) is > critical value 1.96, we Reject the null hypothesis, \n",
      "and we have enough evidence to conclude that the number of people travelling from\n",
      "Bangalore to Chennai is different from the number of people travelling from Bangalore\n",
      "to Hosur in a week,\n"
     ]
    }
   ],
   "source": [
    "from scipy import stats\n",
    "from math import sqrt\n",
    "from numpy.random import seed\n",
    "from numpy.random import randn\n",
    "from numpy import mean\n",
    "from scipy.stats import sem\n",
    "from scipy.stats import t\n",
    "from scipy.stats import ttest_ind\n",
    "\n",
    "#hypothesis : mu1 = mu2\n",
    "\n",
    "# for population 1\n",
    "n1 = 1200\n",
    "x1bar = 452\n",
    "s1 = 212\n",
    "# for population 2\n",
    "n2 = 800\n",
    "x2bar = 523\n",
    "s2 = 185\n",
    "#stats.ttest_ind(rvs1,rvs2)\n",
    "t = (x1bar-x2bar)/math.sqrt(((s1**2/n1)+(s2**2/n2)))\n",
    "print(abs((round(t,4))))\n",
    "#degrees of freedom\n",
    "df = (n1 + n2) - 2\n",
    "alpha = 0.05\n",
    "\n",
    "print('''\\nsince abs(t) is > critical value 1.96, we Reject the null hypothesis, \n",
    "and we have enough evidence to conclude that the number of people travelling from\n",
    "Bangalore to Chennai is different from the number of people travelling from Bangalore\n",
    "to Hosur in a week,''')\n"
   ]
  },
  {
   "cell_type": "code",
   "execution_count": null,
   "metadata": {},
   "outputs": [],
   "source": []
  },
  {
   "cell_type": "markdown",
   "metadata": {},
   "source": [
    "Problem Statement 12:\n",
    "Is there evidence to conclude that the number of people preferring Duracell battery is\n",
    "different from the number of people preferring Energizer battery, given the following:\n",
    "Population 1: Duracell\n",
    "n1 = 100\n",
    "x1 = 308\n",
    "s1 = 84\n",
    "Population 2: Energizer\n",
    "n2 = 100\n",
    "x2 = 254\n",
    "s2 = 67"
   ]
  },
  {
   "cell_type": "code",
   "execution_count": 86,
   "metadata": {},
   "outputs": [
    {
     "name": "stdout",
     "output_type": "stream",
     "text": [
      "\n",
      "Pooled statndard deviation: 75.977\n",
      "\n",
      "test stats: 0.1005\n",
      "\n",
      "Critical value at 5% significance at 198 degrees of freedom is 1.97, \n",
      "Since calculated value is less than critical value ,\n",
      "we fail to reject null hypothesis,\n",
      "\n",
      "Therefore people preferring Duracell battery is equal to people referring Energizer battery.\n"
     ]
    }
   ],
   "source": [
    "from scipy import stats\n",
    "import math\n",
    "from scipy.stats import t\n",
    "\n",
    "#H0: Number of people using duarcell is equal to number of people using energizer battery: mu1 = mu2\n",
    "#H1: Number of people using duarcell is not equal to number of people using energizer battery: mu1 not equal to  mu2\n",
    "\n",
    "n1 = 100\n",
    "n2 = 100\n",
    "x1bar = 308\n",
    "x2bar = 254\n",
    "s1 = 84\n",
    "s2 = 67\n",
    "#S = pooled standard deviation \n",
    "S = (math.sqrt(((n1-1)*((s1)**2)+(n2-1)*((s2)**2)) / (n1+n2-2)))\n",
    "print(\"\\nPooled standard deviation:\", (round(S,4)))\n",
    "#substituting the values for test statistics\n",
    "test_stat = (x1bar-x2bar) / (S) * (math.sqrt((1/n1)+(1/n2)))\n",
    "print(\"\\ntest stats:\", (round(test_stat,4)))\n",
    "#degree of freedom  = n1+n2 -2 = 198\n",
    "print('''\\nCritical value at 5% significance at 198 degrees of freedom is 1.97, \n",
    "Since calculated value is less than critical value ,\\nwe fail to reject null hypothesis,\n",
    "\\nTherefore people preferring Duracell battery is equal to people referring Energizer battery.''')\n",
    "      \n",
    "      "
   ]
  },
  {
   "cell_type": "code",
   "execution_count": null,
   "metadata": {},
   "outputs": [],
   "source": []
  },
  {
   "cell_type": "markdown",
   "metadata": {},
   "source": [
    "Problem Statement 13:\n",
    "Pooled estimate of the population variance\n",
    "Does the data provide sufficient evidence to conclude that average percentage\n",
    "increase in the price of sugar differs when it is sold at two different prices?\n",
    "Population 1: Price of sugar = Rs. 27.50 n1 = 14\n",
    "x1 = 0.317%\n",
    "s1 = 0.12%\n",
    "Population 2: Price of sugar = Rs. 20.00 n2 = 9\n",
    "x2 = 0.21%\n",
    "s2 = 0.11%"
   ]
  },
  {
   "cell_type": "code",
   "execution_count": 95,
   "metadata": {},
   "outputs": [
    {
     "name": "stdout",
     "output_type": "stream",
     "text": [
      "\n",
      "Pooled standard deviation: 0.1163\n",
      "\n",
      "test statistics: 0.3931\n",
      "\n",
      "p_value 0.6528804825865354\n",
      "\n",
      "Critical value at 5% significance at 21  degrees of freedom is 2.08, \n",
      "Since calculated value is less than critical value ,\n",
      "we fail to reject null hypothesis,.\n"
     ]
    }
   ],
   "source": [
    "from scipy import stats\n",
    "import math\n",
    "from scipy.stats import t\n",
    "\n",
    "#H0: mu1 = m2 vs H1: mu1 not equal to mu2\n",
    "price = 27.50\n",
    "n_1 = 14\n",
    "x1_bar = 0.317\n",
    "s1 = 0.12\n",
    "price2 = 20\n",
    "n_2 = 9\n",
    "x2_bar = 0.21\n",
    "s2 = 0.11\n",
    "df = 21\n",
    "#TEST STATISTICS\n",
    "#S_square = ((n_1-1)*((s1)**2)+(n_2-1)*((s2)**2)) / (n_1+n_2-2)\n",
    "S = (math.sqrt(((n_1-1)*((s1)**2)+(n_2-1)*((s2)**2)) / (n_1+n_2-2)))\n",
    "print(\"\\nPooled standard deviation:\",(round(S,4)))\n",
    "\n",
    "#test_stat = (x1bar-x2bar) / (S) * (math.sqrt((1/n1)+(1/n2)))\n",
    "t_stat = (x1_bar-x2_bar) / (S) * (math.sqrt((1/n_1)+(1/n_2)))\n",
    "print(\"\\ntest statistics:\",(round(t_stat,4)))\n",
    "\n",
    "p_value = stats.norm.cdf(t_stat)\n",
    "print(\"\\np_value\",p_value)\n",
    "\n",
    "print('''\\nCritical value at 5% significance at 21  degrees of freedom is 2.08, \n",
    "Since calculated value is less than critical value ,\\nwe fail to reject null hypothesis,.''')"
   ]
  },
  {
   "cell_type": "code",
   "execution_count": null,
   "metadata": {},
   "outputs": [],
   "source": []
  },
  {
   "cell_type": "markdown",
   "metadata": {},
   "source": [
    "Problem Statement 14:\n",
    "The manufacturers of compact disk players want to test whether a small price\n",
    "reduction is enough to increase sales of their product. Is there evidence that the\n",
    "small price reduction is enough to increase sales of compact disk players?\n",
    "Population 1: Before reduction\n",
    "n1 = 15\n",
    "x1 = Rs. 6598 s1 = Rs. 844\n",
    "Population 2: After reduction n2 = 12\n",
    "x2 = RS. 6870\n",
    "s2 = Rs. 669"
   ]
  },
  {
   "cell_type": "code",
   "execution_count": 27,
   "metadata": {},
   "outputs": [
    {
     "name": "stdout",
     "output_type": "stream",
     "text": [
      "\n",
      "Sp square 595835.0\n",
      "\n",
      "T calculated 0.9098300343990459\n",
      "\n",
      "p_value 0.8185439237457348\n",
      "\n",
      "Since p value greater than 0.05 we fail to reject H0, i,e the price reduction does not effect the sales at 0.05.\n"
     ]
    }
   ],
   "source": [
    "from scipy import stats\n",
    "import math\n",
    "\n",
    "#H0: mu2-m1<=0\n",
    "#H1: mu2-m1>0\n",
    "\n",
    "#population 1\n",
    "n1 = 15\n",
    "x1 = 6598\n",
    "s1 = 844\n",
    "#population 2\n",
    "n2 = 12\n",
    "x2 = 6870\n",
    "s2 = 669\n",
    "df = n1 + n2 - 2\n",
    "#sigma = s1-s2\n",
    "\n",
    "S_p = ((n1-1)*((s1)**2)+(n2-1)*((s2)**2)) / (n1+n2-2)\n",
    "print(\"\\nSp square\",S_p)\n",
    "S = (math.sqrt(S_p))\n",
    "#print(S)\n",
    "d = math.sqrt((1/n1)+(1/n2))\n",
    "\n",
    "t = (x2-x1) / (S*d)\n",
    "print(\"\\nT calculated\",t)\n",
    "\n",
    "p_value = stats.norm.cdf(t)\n",
    "print(\"\\np_value\",p_value)\n",
    "print(\"\\nSince p value greater than 0.05 we fail to reject H0, i,e the price reduction does not effect the sales at 0.05.\")"
   ]
  },
  {
   "cell_type": "code",
   "execution_count": null,
   "metadata": {},
   "outputs": [],
   "source": []
  },
  {
   "cell_type": "markdown",
   "metadata": {},
   "source": [
    "Problem Statement 15:\n",
    "Comparisons of two population proportions when the hypothesized difference is zero\n",
    "Carry out a two-tailed test of the equality of banks’ share of the car loan market in\n",
    "1980 and 1995.\n",
    "Population 1: 1980\n",
    "n1 = 1000\n",
    "x1 = 53\n",
    "𝑝 1 = 0.53\n",
    "Population 2: 1985\n",
    "n2 = 100\n",
    "x2 = 43\n",
    "𝑝 2= 0.53"
   ]
  },
  {
   "cell_type": "code",
   "execution_count": 38,
   "metadata": {},
   "outputs": [],
   "source": [
    "from scipy import stats\n",
    "import math\n",
    "\n",
    "#H0:P1=P2, ,H1:P1 NOT EQUAL TO P2\n",
    "#population 1"
   ]
  },
  {
   "cell_type": "code",
   "execution_count": 58,
   "metadata": {},
   "outputs": [
    {
     "name": "stdout",
     "output_type": "stream",
     "text": [
      "\n",
      "z_test: 1.4153 Since z_test is less than critical value at 5% (1.96) ,we reject the null hypothesis.\n"
     ]
    }
   ],
   "source": [
    "n1 = 100\n",
    "x1 = 53\n",
    "p1bar = 0.53\n",
    "#population 2\n",
    "n2 = 100\n",
    "x2 = 43\n",
    "p2bar = 0.43\n",
    "\n",
    "#Critical value at 5% alpha is 1.96\n",
    "#p1bar = x1/n1\n",
    "#p2bar = x2/n2\n",
    "#pooled proportion = x1+x2/n1+n2\n",
    "pp = (x1+x2)/(n1+n2)\n",
    "qq = 1-pp\n",
    "z_test = (p1bar-p2bar)/(math.sqrt((pp)*(qq)*(1/n1+1/n2)))\n",
    "print(\"\\nz_test:\",(round(z_test,4)),\"Since z_test is less than critical value at 5% (1.96) ,we reject the null hypothesis.\")"
   ]
  },
  {
   "cell_type": "code",
   "execution_count": null,
   "metadata": {},
   "outputs": [],
   "source": []
  },
  {
   "cell_type": "markdown",
   "metadata": {},
   "source": [
    "Problem Statement 16:\n",
    "Carry out a one-tailed test to determine whether the population proportion of\n",
    "traveler’s check buyers who buy at least $2500 in checks when sweepstakes prizes\n",
    "are offered as at least 10% higher than the proportion of such buyers when no\n",
    "sweepstakes are on.\n",
    "Population 1: With sweepstakes\n",
    "n1 = 300\n",
    "x1 = 120\n",
    "𝑝 = 0.40\n",
    "Population 2: No sweepstakes n2 = 700\n",
    "x2 = 140\n",
    "𝑝 2= 0.20"
   ]
  },
  {
   "cell_type": "code",
   "execution_count": 60,
   "metadata": {},
   "outputs": [
    {
     "name": "stdout",
     "output_type": "stream",
     "text": [
      "\n",
      "Z test: 3.118\n",
      "\n",
      "p_value 0.0009\n",
      "\n",
      "Since pvalue is less than aplha we Reject h0.\n"
     ]
    }
   ],
   "source": [
    "from scipy import stats\n",
    "import math\n",
    "\n",
    "#H0: P1-P2 <= 0.10   Vs    H1: p1-p2 > 0.10\n",
    "#population 1 with sweepstakes \n",
    "\n",
    "n1 = 300\n",
    "x1 = 120\n",
    "p1 = 0.40\n",
    "p1_p2 = 0.10\n",
    "q1 = 0.60\n",
    "#population 2 , no sweepstakes\n",
    "n2 = 700\n",
    "x2 = 140\n",
    "p2 = 0.20\n",
    "q2 = 0.80\n",
    "#ZTest for two sample  = (p1bar-p2bar)-(p1-p2)/root of (p1bar(1-p1bar/n1))+(p2bar(1-p2bar/n2))\n",
    "Z = ((p1-p2)-(p1_p2)) / (math.sqrt(((p1)*(q1)/n1)+((p2)*(q2)/n2)))\n",
    "print(\"\\nZ test:\",(round(Z,4)) )\n",
    "p_value =1- stats.norm.cdf(Z)\n",
    "print(\"\\np_value\",(round(p_value,4)))\n",
    "print(\"\\nSince pvalue is less than aplha we Reject h0.\")"
   ]
  },
  {
   "cell_type": "code",
   "execution_count": null,
   "metadata": {},
   "outputs": [],
   "source": []
  },
  {
   "cell_type": "markdown",
   "metadata": {},
   "source": [
    "Problem Statement 17:\n",
    "A die is thrown 132 times with the following results: Number turned up: 1, 2, 3, 4, 5, 6\n",
    "Frequency: 16, 20, 25, 14, 29, 28\n",
    "Is the die unbiased? Consider the degrees of freedom as 𝑝 − ."
   ]
  },
  {
   "cell_type": "code",
   "execution_count": 61,
   "metadata": {},
   "outputs": [
    {
     "name": "stdout",
     "output_type": "stream",
     "text": [
      "  Number turned on dice observed\n",
      "0                     1       16\n",
      "1                     2       20\n",
      "2                     3       25\n",
      "3                     4       14\n",
      "4                     5       29\n",
      "5                     6       28\n",
      "11.0705\n",
      "chi-square calculated is less than chi-square at aplha, there we accept the null hypothesis\n"
     ]
    },
    {
     "data": {
      "text/plain": [
       "Power_divergenceResult(statistic=9.0, pvalue=0.1090641579497725)"
      ]
     },
     "execution_count": 61,
     "metadata": {},
     "output_type": "execute_result"
    }
   ],
   "source": [
    "from scipy.stats import chi2\n",
    "from scipy.stats import chi2_contingency\n",
    "import math\n",
    "import numpy as np \n",
    "import pandas as pd \n",
    "from scipy import stats\n",
    "\n",
    "#H0 : die is unbiased, H1: die is not unbiased\n",
    "\n",
    "# A die is thrown 132 times\n",
    "\n",
    "n = 6\n",
    "dice = {'Number turned on dice':['1','2','3','4','5','6'],\n",
    "    'observed': [16,'20','25','14','29',28]\n",
    "        }\n",
    "df = pd.DataFrame(dice, columns = ['Number turned on dice','observed'], index = ['0', '1','2','3','4','5'])\n",
    "print(df)\n",
    "\n",
    "dof = (n-1)\n",
    "\n",
    "expected = [22, 22, 22, 22, 22, 22]\n",
    "actual =  [16, 20, 25, 14, 29, 28]\n",
    "stats.chisquare(actual, expected)\n",
    "\n",
    "critical = chi2.ppf(.95, 5)\n",
    "print((round(critical,4)))\n",
    "\n",
    "print(\"chi-square calculated is less than chi-square at aplha, there we accept the null hypothesis\")\n",
    "stats.chisquare(actual, expected)"
   ]
  },
  {
   "cell_type": "code",
   "execution_count": null,
   "metadata": {},
   "outputs": [],
   "source": []
  },
  {
   "cell_type": "markdown",
   "metadata": {},
   "source": [
    "Problem Statement 18:\n",
    "In a certain town, there are about one million eligible voters. A simple random\n",
    "sample of 10,000 eligible voters was chosen to study the relationship between\n",
    "gender and participation in the last election. The results are summarized in the\n",
    "following 2X2 (read two by two) contingency table:\n",
    "We would want to check whether being a man or a woman (columns) is independent of\n",
    "having voted in the last election (rows). In other words, is “gender and voting independent”?"
   ]
  },
  {
   "cell_type": "code",
   "execution_count": 62,
   "metadata": {},
   "outputs": [
    {
     "name": "stdout",
     "output_type": "stream",
     "text": [
      "           men women\n",
      "voted     2792  3591\n",
      "notvoted  1486  2131\n",
      "\n",
      "expected values [[2730.6474 3652.3526]\n",
      " [1547.3526 2069.6474]]\n",
      "\n",
      "test statistics 6.5523\n",
      "\n",
      " 3.8415\n",
      "Since test statistics is greater than the critical value ,\n",
      "we reject the null hypothesis, and gender and voting are not independent\n"
     ]
    }
   ],
   "source": [
    "from scipy.stats import chi2\n",
    "from scipy.stats import chi2_contingency\n",
    "import math\n",
    "import numpy as np \n",
    "import pandas as pd \n",
    "voter = {'men': ['2792','1486'],\n",
    "        'women':['3591','2131']\n",
    "        }\n",
    "df = pd.DataFrame(voter, columns = ['men','women'], index = ['voted','notvoted'])\n",
    "print(df)\n",
    "\n",
    "#H0: gender and voting is independent, H1: gender and voting is not independent\n",
    "\n",
    "dof = (2-1)*(2-1)\n",
    "\n",
    "table = [[2792 , 3591] , [1486, 2131]]\n",
    "\n",
    "stat, p, dof, expected = chi2_contingency(table)\n",
    "\n",
    "print(\"\\nexpected values\",expected)\n",
    "print(\"\\ntest statistics\", (round(stat,4)))\n",
    "\n",
    "critical = chi2.ppf(.95, 1)\n",
    "print(\"\\n\",(round(critical,4)))\n",
    "print(\"Since test statistics is greater than the critical value ,\\nwe reject the null hypothesis, and gender and voting are not independent\")\n"
   ]
  },
  {
   "cell_type": "code",
   "execution_count": null,
   "metadata": {},
   "outputs": [],
   "source": []
  },
  {
   "cell_type": "markdown",
   "metadata": {},
   "source": [
    "Problem Statement 19:\n",
    "A sample of 100 voters are asked which of four candidates they would vote for in an\n",
    "election. The number supporting each candidate is given below:\n",
    "Do the data suggest that all candidates are equally popular? [Chi-Square = 14.96,\n",
    "with 3 df, 𝑝 0.05 ."
   ]
  },
  {
   "cell_type": "code",
   "execution_count": 64,
   "metadata": {},
   "outputs": [
    {
     "name": "stdout",
     "output_type": "stream",
     "text": [
      "7.8147\n",
      "Calculated value of chi square: 14.96 is more than the tabulated value  7.8147 therfore we reject the null hypothesis, \n",
      "and conclude all candidates are not equally popular\n",
      "0.0009 since the p value is less than the 5% level of significance , \n",
      "we reject the null hypothesis, and conclude all candidates are not equally popular\n"
     ]
    }
   ],
   "source": [
    "from scipy.stats import chi2\n",
    "from scipy.stats import chi2_contingency\n",
    "import math\n",
    "\n",
    "chi_square  = 14.96\n",
    "df = 3\n",
    "#p = 0.05\n",
    "critical = chi2.ppf(.95, 3)\n",
    "print((round(critical,4)))\n",
    "print(\"Calculated value of chi square:\", \n",
    "      (round(chi_square,4)), \"is more than the tabulated value \",\n",
    "      (round(critical,4)), \"therfore we reject the null hypothesis, \\nand conclude all candidates are not equally popular\")\n",
    "#pvalue at 0.05 and chi_square\n",
    "\n",
    "p_val = chi2.pdf(14.96 , 3)\n",
    "print((round(p_val,4)),\"since the p value is less than the 5% level of significance , \\nwe reject the null hypothesis, and conclude all candidates are not equally popular\")"
   ]
  },
  {
   "cell_type": "code",
   "execution_count": null,
   "metadata": {},
   "outputs": [],
   "source": []
  },
  {
   "cell_type": "markdown",
   "metadata": {},
   "source": [
    "Problem Statement 20:\n",
    "Children of three ages are asked to indicate their preference for three photographs of\n",
    "adults. Do the data suggest that there is a significant relationship between age and\n",
    "photograph preference? What is wrong with this study? [Chi-Square = 29.6, with 4\n",
    "df: 𝑝 < 0.05]."
   ]
  },
  {
   "cell_type": "code",
   "execution_count": 102,
   "metadata": {},
   "outputs": [],
   "source": [
    "from scipy.stats import chi2\n",
    "from scipy.stats import chi2_contingency\n",
    "import math\n",
    "import numpy as np \n",
    "import pandas as pd "
   ]
  },
  {
   "cell_type": "code",
   "execution_count": 153,
   "metadata": {},
   "outputs": [
    {
     "name": "stdout",
     "output_type": "stream",
     "text": [
      "             A   B   C\n",
      "5-6 years   18  22  20\n",
      "7-8 years    2  28  40\n",
      "9-10 years  20  10  40\n",
      "\n",
      " Expected values\n",
      " [[12. 14. 14.]\n",
      " [18. 21. 21.]\n",
      " [30. 35. 35.]]\n",
      "\n",
      "chi square calculated 29.603174603174605\n",
      "\n",
      "chisquare tabulated 9.487729036781154\n",
      "0.0\n",
      "\n",
      "chi square calculated is greater than chi square tabulated so we retain the null hypothesis,\n",
      "      \n",
      "i,e There is significant relationship between age and photograph preference.\n"
     ]
    }
   ],
   "source": [
    "#H0: There is significant relationship between age and photograph preference\n",
    "#H1: There is no significant relationship between age and photograph preference\n",
    "\n",
    "data = {'A':['18','2','20'],\n",
    "        'B':['22','28','10'],\n",
    "        'C':['20','40','40'] ,      \n",
    "        }\n",
    "df = pd.DataFrame(data, columns = ['A','B','C'], index = ['5-6 years','7-8 years','9-10 years'])\n",
    "print(df)\n",
    "\n",
    "dof = (3-1)*(3-1)\n",
    "\n",
    "table = [[18 , 2,20],[22,28,10],[20,40,40]]\n",
    "\n",
    "stat, p, dof, expected = chi2_contingency(table)\n",
    "\n",
    "print(\"\\n Expected values\\n\",expected)\n",
    "print(\"\\nchi square calculated\", stat)\n",
    "\n",
    "chi_square_tabulated = chi2.ppf(.95,4)\n",
    "print(\"\\nchisquare tabulated\", chi_square_tabulated)\n",
    "p_value = 1-chi2.cdf(x=29.6,df = dof)\n",
    "print((round(p_value,4)))\n",
    "print('''\\nchi square calculated is greater than chi square tabulated so we retain the null hypothesis,\n",
    "      \\ni,e There is significant relationship between age and photograph preference.''')\n",
    "      \n",
    "      "
   ]
  },
  {
   "cell_type": "code",
   "execution_count": null,
   "metadata": {},
   "outputs": [],
   "source": []
  },
  {
   "cell_type": "markdown",
   "metadata": {},
   "source": [
    "Problem Statement 21:\n",
    "A study of conformity using the Asch paradigm involved two conditions: one where\n",
    "one confederate supported the true judgement and another where no confederate\n",
    "gave the correct response.\n",
    "Is there a significant difference between the \"support\" and \"no support\" conditions in the\n",
    "frequency with which individuals are likely to conform? [Chi-Square = 19.87, with 1 df:\n",
    "𝑝 < 0.05]."
   ]
  },
  {
   "cell_type": "code",
   "execution_count": 97,
   "metadata": {},
   "outputs": [
    {
     "name": "stdout",
     "output_type": "stream",
     "text": [
      "            Support No Support\n",
      "Confirm          18         40\n",
      "Not Confirm      32         10\n",
      "\n",
      "Expected values\n",
      " [[29. 21.]\n",
      " [29. 21.]]\n",
      "\n",
      "Chi square calculated\n",
      " 18.1034\n",
      "\n",
      "chi square tabulated 3.8415\n",
      "\n",
      "Given that p<0.05 , Therefore we reject H0,\n",
      "      i,e. There is relationship between support and no support conditions \n",
      "\n"
     ]
    }
   ],
   "source": [
    "from scipy.stats import chi2\n",
    "from scipy.stats import chi2_contingency\n",
    "import math\n",
    "import numpy as np \n",
    "import pandas as pd \n",
    "\n",
    "#H0: There is no relationship between support and no support conditions \n",
    "#H1: There is relationship between support and no support conditions \n",
    "\n",
    "data = {'Support':['18','32'],\n",
    "        'No Support':['40','10'],\n",
    "        }\n",
    "df = pd.DataFrame(data, columns = ['Support','No Support'], index = ['Confirm','Not Confirm'])\n",
    "print(df)\n",
    "\n",
    "dof = (2-1)*(2-1)\n",
    "\n",
    "table = [[18 , 32],[40,10]]\n",
    "\n",
    "stat, p, dof,expected = chi2_contingency(table)\n",
    "print(\"\\nExpected values\\n\",expected)\n",
    "\n",
    "print(\"\\nChi square calculated\\n\",(round(stat,4)))\n",
    "#print(p)\n",
    "critical = chi2.ppf(0.95, 1)\n",
    "print(\"\\nchi square tabulated\",(round(critical,4)))\n",
    "print('''\\nGiven that p<0.05 , Therefore we reject H0,\n",
    "      i,e. There is relationship between support and no support conditions \n",
    "''')"
   ]
  },
  {
   "cell_type": "code",
   "execution_count": null,
   "metadata": {},
   "outputs": [],
   "source": []
  },
  {
   "cell_type": "markdown",
   "metadata": {},
   "source": [
    "Problem Statement 22:\n",
    "We want to test whether short people differ with respect to their leadership qualities\n",
    "(Genghis Khan, Adolf Hitler and Napoleon were all stature-deprived, and how many midget\n",
    "MP's are there?) The following table shows the frequencies with which 43 short people and\n",
    "52 tall people were categorized as \"leaders\", \"followers\" or as \"unclassifiable\". Is there a\n",
    "relationship between height and leadership qualities?\n",
    "[Chi-Square = 10.71, with 2 df: 𝑝 < 0.01]."
   ]
  },
  {
   "cell_type": "code",
   "execution_count": 72,
   "metadata": {},
   "outputs": [
    {
     "name": "stdout",
     "output_type": "stream",
     "text": [
      "              Short Tall\n",
      "Leader           12   32\n",
      "Follower         22   14\n",
      "unclassifiabl     9    6\n",
      "\n",
      "Expected Values\n",
      " [[19.91578947 16.29473684  6.78947368]\n",
      " [24.08421053 19.70526316  8.21052632]]\n",
      "\n",
      "chi square calculated 10.7122\n",
      "\n",
      "chi square tabulated 9.2103\n",
      "\n",
      "since the chi square calculated is greater than the tabulated value, \n",
      "we reject the null hypothesis. \n",
      "And conclude that the height and leadership are not independent\n"
     ]
    }
   ],
   "source": [
    "from scipy.stats import chi2\n",
    "from scipy.stats import chi2_contingency\n",
    "import math\n",
    "import numpy as np \n",
    "import pandas as pd \n",
    "\n",
    "#H0: height and leadership quality are independent\n",
    "#H1: height and leadership qualities are not independent\n",
    "\n",
    "data = {'Short':['12','22','9'],\n",
    "        'Tall':['32','14','6']\n",
    "        }\n",
    "df = pd.DataFrame(data, columns = ['Short','Tall'], index = ['Leader','Follower','unclassifiabl'])\n",
    "print(df)\n",
    "\n",
    "dof = (3-1)*(2-1)\n",
    "\n",
    "table = [[12 , 22, 9] , [32,14,6]]\n",
    "\n",
    "stat, p, dof, expected = chi2_contingency(table)\n",
    "print(\"\\nExpected Values\\n\",expected)\n",
    "print(\"\\nchi square calculated\",(round(stat,4)))\n",
    "critical = chi2.ppf(.99, 2)\n",
    "print(\"\\nchi square tabulated\",(round(critical,4)))\n",
    "print(\"\\nsince the chi square calculated is greater than the tabulated value, \\nwe reject the null hypothesis. \\nAnd conclude that the height and leadership are not independent\")\n"
   ]
  },
  {
   "cell_type": "code",
   "execution_count": null,
   "metadata": {},
   "outputs": [],
   "source": []
  },
  {
   "cell_type": "markdown",
   "metadata": {},
   "source": [
    "Problem Statement 23:\n",
    "Each respondent in the Current Population Survey of March 1993 was classified as\n",
    "employed, unemployed, or outside the labor force. The results for men in California age 35-\n",
    "44 can be cross-tabulated by marital status, as follows \n",
    "Men of different marital status seem to have different distributions of labor force status. Or is\n",
    "this just chance variation? (you may assume the table results from a simple random\n",
    "sample.)"
   ]
  },
  {
   "cell_type": "code",
   "execution_count": 75,
   "metadata": {},
   "outputs": [
    {
     "name": "stdout",
     "output_type": "stream",
     "text": [
      "                    Married Widow Never Married\n",
      "Employed                679   103           114\n",
      "Unemployed               63    10            20\n",
      "Not in Labour force      42    18            25\n",
      "\n",
      "Expected values:\n",
      " [[654.06331471  67.88826816  62.04841713]\n",
      " [109.2886406   11.34357542  10.36778399]\n",
      " [132.64804469  13.76815642  12.58379888]]\n",
      "\n",
      "Chisquare_calculated: 31.6131\n",
      "\n",
      "Chi_square tabulated: 9.4877\n",
      "\n",
      "Since the chi squate calculated is greater than tabulated value we reject the null hypothesis\n"
     ]
    }
   ],
   "source": [
    "from scipy.stats import chi2\n",
    "from scipy.stats import chi2_contingency\n",
    "import math\n",
    "import numpy as np \n",
    "import pandas as pd \n",
    "\n",
    "#H0: the distribution of labour force is same for different marital status\n",
    "#H1: the distribution of labour force is not same for different marital status\n",
    "\n",
    "data = {'Married':['679','63','42'],\n",
    "        'Widow':['103','10','18'],\n",
    "        'Never Married':['114','20','25']\n",
    "        }\n",
    "df = pd.DataFrame(data, columns = ['Married','Widow','Never Married'], index = ['Employed','Unemployed','Not in Labour force'])\n",
    "print(df)\n",
    "\n",
    "dof = (3-1)*(3-1)\n",
    "\n",
    "table = [[679,63,42] , [103,10,18],[114,20,25]]\n",
    "stat, p, dof, expected = chi2_contingency(table)\n",
    "print(\"\\nExpected values:\\n\", expected)\n",
    "print(\"\\nChisquare_calculated:\",(round(stat,4)))\n",
    "\n",
    "chi_square_tabulated = chi2.ppf(0.95,4)\n",
    "print(\"\\nChi_square tabulated:\",(round(chi_square_tabulated,4)))\n",
    "print(\"\\nSince the chi squate calculated is greater than tabulated value we reject the null hypothesis\")\n"
   ]
  },
  {
   "cell_type": "code",
   "execution_count": null,
   "metadata": {},
   "outputs": [],
   "source": []
  }
 ],
 "metadata": {
  "kernelspec": {
   "display_name": "Python 3",
   "language": "python",
   "name": "python3"
  },
  "language_info": {
   "codemirror_mode": {
    "name": "ipython",
    "version": 3
   },
   "file_extension": ".py",
   "mimetype": "text/x-python",
   "name": "python",
   "nbconvert_exporter": "python",
   "pygments_lexer": "ipython3",
   "version": "3.7.4"
  }
 },
 "nbformat": 4,
 "nbformat_minor": 2
}
