{
 "cells": [
  {
   "cell_type": "markdown",
   "metadata": {},
   "source": [
    "Calculate the mean, median, mode and standard deviation for the problem\n",
    "statements 1& 2.\n",
    "Problem Statement 1:\n",
    "The marks awarded for an assignment set for a Year 8 class of 20 students were as\n",
    "follows:\n",
    "6 7 5 7 7 8 7 6 9 7 4 10 6 8 8 9 5 6 4 8\n"
   ]
  },
  {
   "cell_type": "code",
   "execution_count": 25,
   "metadata": {},
   "outputs": [],
   "source": [
    "from scipy import stats\n",
    "import numpy as np"
   ]
  },
  {
   "cell_type": "code",
   "execution_count": 26,
   "metadata": {},
   "outputs": [
    {
     "name": "stdout",
     "output_type": "stream",
     "text": [
      "Mean: 6.85\n",
      "Median: 7.0\n",
      "STD 1.5898\n",
      "Var: 2.5275\n",
      "mode: ModeResult(mode=array([7]), count=array([5]))\n"
     ]
    }
   ],
   "source": [
    "dataset = [6,7,5,7,7,8,7,6,9,7,4,10,6,8,8,9,5,6,4,8]\n",
    "\n",
    "#mean value\n",
    "mean = np.mean(dataset)\n",
    "#median value\n",
    "median = np.median(dataset)\n",
    "#mode value\n",
    "mode = stats.mode(dataset)\n",
    "std = np.std(dataset)\n",
    "var = np.var(dataset)\n",
    "\n",
    "print(\"Mean:\", (round(mean, 4)))\n",
    "print(\"Median:\", (round(median, 4)))\n",
    "print(\"STD\", (round(std, 4)))\n",
    "print(\"Var:\", (round(var, 4)))\n",
    "print(\"mode:\",mode)"
   ]
  },
  {
   "cell_type": "code",
   "execution_count": null,
   "metadata": {},
   "outputs": [],
   "source": []
  },
  {
   "cell_type": "markdown",
   "metadata": {},
   "source": [
    "Problem Statement 2:\n",
    "The number of calls from motorists per day for roadside service was recorded for a\n",
    "particular month:\n",
    "28, 122, 217, 130, 120, 86, 80, 90, 140, 120, 70, 40, 145, 113, 90, 68, 174, 194, 170,\n",
    "100, 75, 104, 97, 75,\n",
    "123, 100, 75, 104, 97, 75, 123, 100, 89, 120, 109"
   ]
  },
  {
   "cell_type": "code",
   "execution_count": 5,
   "metadata": {},
   "outputs": [],
   "source": [
    "import numpy as np\n",
    "from scipy import stats"
   ]
  },
  {
   "cell_type": "code",
   "execution_count": 6,
   "metadata": {},
   "outputs": [
    {
     "name": "stdout",
     "output_type": "stream",
     "text": [
      "Mean: 107.5143\n",
      "Median: 100.0\n",
      "Mode: ModeResult(mode=array([75]), count=array([4]))\n",
      "STD 38.7729\n",
      "Var: 1503.3355\n"
     ]
    }
   ],
   "source": [
    "dataset2 = [28, 122, 217, 130, 120, 86, 80, 90, 140, 120, 70, 40, 145, 113, 90, 68, 174, 194, 170,\n",
    "100, 75, 104, 97, 75,\n",
    "123, 100, 75, 104, 97, 75, 123, 100, 89, 120, 109]\n",
    "\n",
    "#mean value\n",
    "mean_calls = np.mean(dataset2)\n",
    "#median value\n",
    "median_calls = np.median(dataset2)\n",
    "#mode value\n",
    "mode_calls = stats.mode(dataset2)\n",
    "std_calls = np.std(dataset2)\n",
    "var_calls = np.var(dataset2)\n",
    "\n",
    "print(\"Mean:\", (round(mean_calls, 4)))\n",
    "print(\"Median:\", (round(median_calls, 4)))\n",
    "print(\"Mode:\", mode_calls)\n",
    "print(\"STD\", (round(std_calls, 4)))\n",
    "print(\"Var:\", (round(var_calls, 4)))\n"
   ]
  },
  {
   "cell_type": "code",
   "execution_count": null,
   "metadata": {},
   "outputs": [],
   "source": []
  },
  {
   "cell_type": "markdown",
   "metadata": {},
   "source": [
    "Problem Statement 3:\n",
    "The number of times I go to the gym in weekdays, are given below along with its\n",
    "associated probability:\n",
    "x = 0, 1, 2, 3, 4, 5\n",
    "f(x) = 0.09, 0.15, 0.40, 0.25, 0.10, 0.01\n",
    "Calculate the mean no. of workouts in a week. Also evaluate the variance involved in\n",
    "it"
   ]
  },
  {
   "cell_type": "code",
   "execution_count": 5,
   "metadata": {},
   "outputs": [],
   "source": [
    "from scipy.stats import stats\n",
    "import math\n",
    "import pandas as pd"
   ]
  },
  {
   "cell_type": "code",
   "execution_count": 6,
   "metadata": {},
   "outputs": [],
   "source": [
    "import math"
   ]
  },
  {
   "cell_type": "code",
   "execution_count": 7,
   "metadata": {},
   "outputs": [
    {
     "name": "stdout",
     "output_type": "stream",
     "text": [
      "expected_val: [0.0, 0.15, 0.8, 0.75, 0.4, 0.05]\n",
      "2.15\n",
      "[0.4160249999999999, 0.19837499999999997, 0.00899999999999999, 0.18062500000000004, 0.34225000000000005, 0.081225]\n",
      "1.2275\n",
      "\n",
      "variance 1.1079\n"
     ]
    }
   ],
   "source": [
    "\n",
    "x = [0, 1, 2, 3, 4, 5]\n",
    "p = [0.09, 0.15, 0.40, 0.25,0.10,0.01]\n",
    "expected_val = []\n",
    "\n",
    "for num1, num2 in zip(x, p):\n",
    "    expected_val.append(num1 * num2)\n",
    "print(\"expected_val:\",expected_val)\n",
    "expected_val=[0.0, 0.15, 0.8, 0.75, 0.4, 0.05]\n",
    "mean = math.fsum(expected_val)\n",
    "print(mean)\n",
    "\n",
    "gym = {\"x\": [0, 1, 2, 3, 4, 5],\n",
    "      \"p_x\":[0.09, 0.15, 0.40, 0.25,0.10,0.01],\n",
    "      \"Ex\":[0.0, 0.15, 0.8, 0.75, 0.4, 0.05],\n",
    "      }\n",
    "gym_df = pd.DataFrame(gym)\n",
    "gym_df\n",
    "\n",
    " \n",
    "#V_x = p(x)*(x - mean)**2\n",
    "\n",
    "v_x  = []\n",
    "\n",
    "for l,g in zip(x,p):\n",
    "    v_x.append(((l-mean)**2)*(g))\n",
    "print(v_x)\n",
    "var = sum(v_x)\n",
    "print(var)\n",
    "variance = math.sqrt(var)\n",
    "print(\"\\nvariance\", (round(variance,4)))"
   ]
  },
  {
   "cell_type": "code",
   "execution_count": null,
   "metadata": {},
   "outputs": [],
   "source": []
  },
  {
   "cell_type": "markdown",
   "metadata": {},
   "source": [
    "Problem Statement 5:\n",
    "A company manufactures LED bulbs with a faulty rate of 30%. If I randomly select 6\n",
    "chosen LEDs, what is the probability of having 2 faulty LEDs in my sample?\n",
    "Calculate the average value of this process. Also evaluate the standard deviation\n",
    "associated with it\n"
   ]
  },
  {
   "cell_type": "code",
   "execution_count": 27,
   "metadata": {},
   "outputs": [
    {
     "name": "stdout",
     "output_type": "stream",
     "text": [
      "\n",
      "P(X = 2): 0.3241\n",
      "\n",
      "Mean: 1.8\n",
      "\n",
      "Standard deviation:  1.1225\n"
     ]
    }
   ],
   "source": [
    "from scipy.stats import binom\n",
    "import math\n",
    "#X ~ Bin ( n , p)\n",
    "\n",
    "n = 6\n",
    "p = 0.30\n",
    "\n",
    "#Binomial probability distribution is\n",
    "\n",
    "#P(X) = nCx * px * ( 1 - p)n-1\n",
    "prob = binom.pmf(k = 2, n = 6, p = 0.30)\n",
    "\n",
    "print(\"\\nP(X = 2):\", (round(prob, 4)))\n",
    "\n",
    "Mean = n*p\n",
    "print(\"\\nMean:\",(round(Mean, 4)))\n",
    "\n",
    "Standard_deviation = math.sqrt((n)*(p)*(1 - p))\n",
    "print(\"\\nStandard deviation: \", (round(Standard_deviation, 4)))\n"
   ]
  },
  {
   "cell_type": "code",
   "execution_count": null,
   "metadata": {},
   "outputs": [],
   "source": []
  },
  {
   "cell_type": "markdown",
   "metadata": {},
   "source": [
    "Problem Statement 6:\n",
    "    Gaurav and Barakha are both preparing for entrance exams. Gaurav attempts to\n",
    "solve 8 questions per day with a correction rate of 75%, while Barakha averages\n",
    "around 12 questions per day with a correction rate of 45%. What is the probability\n",
    "that each of them will solve 5 questions correctly? What happens in cases of 4 and 6\n",
    "correct solutions? What do you infer from it? What are the two main governing\n",
    "factors affecting their ability to solve questions correctly? Give a pictorial\n",
    "representation of the same to validate your answer."
   ]
  },
  {
   "cell_type": "code",
   "execution_count": 10,
   "metadata": {},
   "outputs": [
    {
     "name": "stdout",
     "output_type": "stream",
     "text": [
      "\n",
      "prob_G: [0.08651733398437506, 0.20764160156250022, 0.31146240234375017]\n",
      "\n",
      "prob_B [0.16996393213605795, 0.22249823843265792, 0.21238468214026424]\n"
     ]
    },
    {
     "data": {
      "image/png": "[encoded data removed]",
      "text/plain": [
       "<Figure size 432x288 with 1 Axes>"
      ]
     },
     "metadata": {
      "needs_background": "light"
     },
     "output_type": "display_data"
    },
    {
     "name": "stdout",
     "output_type": "stream",
     "text": [
      "\n",
      "Gaurav's ability to solve questions correctly is better than Barakha.\n",
      "Or in other words Barakha can improve if she reduces the number of questions being\n",
      "atempted and try to answer them correctly.\n"
     ]
    }
   ],
   "source": [
    "from scipy.stats import binom\n",
    "import math\n",
    "from matplotlib import pyplot as plt\n",
    "import pandas as pd\n",
    "\n",
    "#probability that Gaurav will solve 4,5,6 OUT OF 8 questions correctly\n",
    "Q = [4,5,6]\n",
    "G = [[8,4,.75],[8,5,.75],[8,6,.75]]\n",
    "prob_G = []\n",
    "for i in G:\n",
    "    n = i[0]\n",
    "    k = i[1]\n",
    "    p = i[2]\n",
    "    prob_G.append(binom.pmf(k,n,p))\n",
    "print(\"\\nprob_G:\", prob_G)\n",
    "#probability that Barkha will solve 4,5,6 OUT OF 12 questions correctly\n",
    "B = [[12,4,.45],[12,5,.45],[12,6,.45]]\n",
    "prob_B = []\n",
    "for i in B:\n",
    "    n = i[0]\n",
    "    k = i[1]\n",
    "    p = i[2]\n",
    "    prob_B.append(binom.pmf(k,n,p))\n",
    "print(\"\\nprob_B\",prob_B)\n",
    "plt.title(\"Ability to answer correctly\\n\")\n",
    "\n",
    "x = Q\n",
    "y = prob_G\n",
    "z = prob_B\n",
    "plt.plot(x,y)\n",
    "plt.plot(x,z)\n",
    "plt.xlabel(\"X\")\n",
    "plt.ylabel(\"Y and Z\")\n",
    "plt.legend([\"Gaurav\", \"Barakha\"])\n",
    "plt.show()\n",
    "print('''\\nGaurav's ability to solve questions correctly is better than Barakha.\n",
    "Or in other words Barakha can improve if she reduces the number of questions being\n",
    "atempted and try to answer them correctly.''')\n",
    "\n"
   ]
  },
  {
   "cell_type": "code",
   "execution_count": null,
   "metadata": {},
   "outputs": [],
   "source": []
  },
  {
   "cell_type": "markdown",
   "metadata": {},
   "source": [
    "Problem Statement 7:\n",
    "Customers arrive at a rate of 72 per hour to my shop. What is the probability of 𝑘\n",
    "customers arriving in 4 minutes? a) 5 customers, b) not more than 3 customers, c)\n",
    "more than 3 customers. Give a pictorial representation of the same to validate your\n",
    "answer\n",
    "\n"
   ]
  },
  {
   "cell_type": "code",
   "execution_count": 19,
   "metadata": {},
   "outputs": [
    {
     "name": "stdout",
     "output_type": "stream",
     "text": [
      "P(X = 5): 0.1747\n",
      "P(X <= 3 ) 0.2942\n",
      "P(X > 3) 0.7058\n"
     ]
    }
   ],
   "source": [
    "from scipy.stats import poisson\n",
    "import matplotlib.pyplot as plt\n",
    "\n",
    "#What is the probability of 5 customers arriving in 4 minutes?\n",
    "\n",
    "prob = poisson.pmf(5,4.8)\n",
    "print(\"P(X = 5):\", (round(prob, 4)))\n",
    "\n",
    "#not more than 3 customers, ie, x=0,x=1,x=2,x=3\n",
    "prob_not_more_than_3 = poisson.cdf(3,4.8)\n",
    "print(\"P(X <= 3 )\",(round(prob_not_more_than_3, 4)))\n",
    "#not more than 3 customers, ie, x=0,x=1,x=2,x=3\n",
    "prob_more_than_3 = 1- poisson.cdf(3,4.8)\n",
    "print(\"P(X > 3)\",(round(prob_more_than_3, 4)))\n",
    "\n"
   ]
  },
  {
   "cell_type": "code",
   "execution_count": 20,
   "metadata": {},
   "outputs": [],
   "source": [
    "import matplotlib.pyplot as plt\n"
   ]
  },
  {
   "cell_type": "code",
   "execution_count": 23,
   "metadata": {},
   "outputs": [
    {
     "data": {
      "image/png": "[encoded data removed]",
      "text/plain": [
       "<Figure size 432x288 with 1 Axes>"
      ]
     },
     "metadata": {},
     "output_type": "display_data"
    }
   ],
   "source": [
    "# Pie chart, where the slices will be ordered and plotted counter-clockwise:\n",
    "labels = 'p(not more than 3 cust)', 'p(5 cust)', 'p(more than 3 cust)'\n",
    "sizes = [0.2942, 0.1747, 0.7058]\n",
    "explode = (0, 0.1, 0)  # only \"explode\" the 2nd slice (i.e. 'Hogs')\n",
    "\n",
    "fig1, ax1 = plt.subplots()\n",
    "ax1.pie(sizes, explode=explode, labels=labels, autopct='%1.1f%%',\n",
    "        shadow=True, startangle=90)\n",
    "ax1.axis('equal')\n",
    "plt.show()\n"
   ]
  },
  {
   "cell_type": "code",
   "execution_count": null,
   "metadata": {},
   "outputs": [],
   "source": []
  },
  {
   "cell_type": "markdown",
   "metadata": {},
   "source": [
    "Problem Statement 8:\n",
    "I work as a data analyst in Aeon Learning Pvt. Ltd. After analyzing data, I make\n",
    "reports, where I have the efficiency of entering 77 words per minute with 6 errors per\n",
    "hour. What is the probability that I will commit 2 errors in a 455-word financial report?\n",
    "What happens when the no. of words increases/decreases (in case of 1000 words,\n",
    "255 words)?\n",
    "How is the 𝜆 affected?\n",
    "How does it influence the PMF?\n",
    "Give a pictorial representation of the same to validate your answer."
   ]
  },
  {
   "cell_type": "code",
   "execution_count": 11,
   "metadata": {},
   "outputs": [
    {
     "name": "stdout",
     "output_type": "stream",
     "text": [
      "The probability that 2 errors will be committed in a 455-word report is: 0.0967\n",
      "\n",
      "lambda_for_1000 words is: 1.2987\n",
      "\n",
      "Therefore lambda has increased\n",
      "\n",
      "lambda_for_255 words is: 0.3312\n",
      "\n",
      "Therefore lambda has Decrease\n"
     ]
    }
   ],
   "source": [
    "from scipy.stats import poisson\n",
    "\n",
    "prob_2errors = poisson.pmf(2,0.591)\n",
    "print(\"The probability that 2 errors will be committed in a 455-word report is:\",(round(prob_2errors, 4)))\n",
    "\n",
    "#If the number of words increase the time and number of errors also increases thereofore lambda will also increase\n",
    "#If the number of words is 1000, then\n",
    "num_words = 1000\n",
    "words_per_min = 77\n",
    "#num_of_errors = 6\n",
    "errors_per_hour = 6/60\n",
    "lambda_for_1000 = (num_words/words_per_min)*(errors_per_hour)\n",
    "\n",
    "print(\"\\nlambda_for_1000 words is:\" , (round(lambda_for_1000, 4)) )\n",
    "print(\"\\nTherefore lambda has increased\")\n",
    "\n",
    "#If the number of words decreases the time and number of errors also decreases thereofore lambda will also decrease\n",
    "#so incase of 255words then lamda is\n",
    "num_words = 255\n",
    "words_per_min = 77\n",
    "#num_of_errors = 6\n",
    "errors_per_hour = 6/60\n",
    "lambda_for_255 = (num_words/words_per_min)*(errors_per_hour)\n",
    "\n",
    "print(\"\\nlambda_for_255 words is:\" , (round(lambda_for_255, 4)))\n",
    "print(\"\\nTherefore lambda has Decrease\")"
   ]
  },
  {
   "cell_type": "code",
   "execution_count": null,
   "metadata": {},
   "outputs": [],
   "source": []
  },
  {
   "cell_type": "markdown",
   "metadata": {},
   "source": [
    "Problem Statement 9:\n",
    "Let the continuous random variable D denote the diameter of the hole drilled in an\n",
    "aluminum sheet. The target diameter to be achieved is 12.5mm. Random\n",
    "disturbances in the process often result in inaccuracy.\n",
    "Historical data shows that the distribution of D can be modelled by the PDF, f(d) =\n",
    "20e−20(d−12.5), d ≥ 12.5. If a part with diameter > 12.6 mm needs to be scrapped,\n",
    "what is the proportion of those parts? What is the CDF when the diameter is of 11\n",
    "mm?\n",
    "What is the conclusion of this experiment?"
   ]
  },
  {
   "cell_type": "code",
   "execution_count": 12,
   "metadata": {},
   "outputs": [
    {
     "name": "stdout",
     "output_type": "stream",
     "text": [
      "\n",
      "P(D>12.6: (0.13533528323661398, 1.4196407407851444e-09) The proportion of those parts is 13.53\n",
      "\n",
      "CDF WHEN DIAMETER =11, which is less than 12.5  is equal to 0\n"
     ]
    }
   ],
   "source": [
    "from scipy.integrate import quad\n",
    "import numpy as np\n",
    "from numpy import exp\n",
    "import scipy.integrate\n",
    "\n",
    "\n",
    "f= lambda x:20 * np.exp((-20)* (x-12.5))\n",
    "x = 12.5\n",
    "i = scipy.integrate.quad(f, 12.6, np.inf)\n",
    "print(\"\\nP(D>12.6:\",i, \"The proportion of those parts is 13.53\")\n",
    "print(\"\\nCDF WHEN DIAMETER =11, which is less than 12.5  is equal to 0\")"
   ]
  },
  {
   "cell_type": "code",
   "execution_count": null,
   "metadata": {},
   "outputs": [],
   "source": []
  },
  {
   "cell_type": "markdown",
   "metadata": {},
   "source": [
    "Problem Statement 10:\n",
    "Please compute the following:\n",
    "a) P(Z > 1.26), . P(Z < −0.86), P(Z > −1.37), P(−1.25 < Z < 0.37), . P(Z ≤ −4.6)\n",
    "b) Find the value 𝑧 such that 𝑃(𝑍 > 𝑧) = 0.05\n",
    "c) Find the value of 𝑧 such that 𝑃(−𝑧 < 𝑍 < 𝑧) = 0.99\n"
   ]
  },
  {
   "cell_type": "code",
   "execution_count": 18,
   "metadata": {},
   "outputs": [
    {
     "name": "stdout",
     "output_type": "stream",
     "text": [
      "P(Z > 1.26): 0.10383468112130045\n",
      "P(Z < −0.86: 0.1948945212518084\n",
      "P(Z < −1.37: 0.914656549178033\n",
      "P(−1.25 < Z < 0.37): 0.5386589811336914\n"
     ]
    }
   ],
   "source": [
    "from scipy import stats\n",
    "#a) P(Z > 1.26), . P(Z < −0.86), P(Z > −1.37), P(−1.25 < Z < 0.37), . P(Z ≤ −4.6) \n",
    "\n",
    "Z = 1-stats.norm.cdf(1.26)\n",
    "print(\"P(Z > 1.26):\", Z)\n",
    "Z = stats.norm.cdf(-0.86)\n",
    "print(\"P(Z < −0.86:\", Z)\n",
    "Z = stats.norm.cdf(1.37)\n",
    "print(\"P(Z < −1.37:\", Z)\n",
    "Z = stats.norm.cdf(1.25)-(1-stats.norm.cdf(0.37))\n",
    "print(\"P(−1.25 < Z < 0.37):\", Z)\n",
    "Z = 1-stats.norm.cdf(4.6)"
   ]
  },
  {
   "cell_type": "code",
   "execution_count": 17,
   "metadata": {},
   "outputs": [
    {
     "name": "stdout",
     "output_type": "stream",
     "text": [
      "0.95\n"
     ]
    },
    {
     "data": {
      "text/plain": [
       "1.6448536269514722"
      ]
     },
     "execution_count": 17,
     "metadata": {},
     "output_type": "execute_result"
    }
   ],
   "source": [
    "#b) Find the value 𝑧 such that 𝑃(𝑍 > 𝑧) = 0.05\n",
    "    #p(Z>z)  = 1-p(Z<z)\n",
    "p= 1-0.05 \n",
    "print(p)\n",
    "#p(0.95,z)\n",
    "stats.norm.ppf(0.95)"
   ]
  },
  {
   "cell_type": "code",
   "execution_count": 16,
   "metadata": {},
   "outputs": [
    {
     "name": "stdout",
     "output_type": "stream",
     "text": [
      "-z = -2.575829303548901\n",
      "\n",
      " Therefore z= 2.575\n"
     ]
    }
   ],
   "source": [
    "#c) Find the value of 𝑧 such that 𝑃(−𝑧 < 𝑍 < 𝑧) = 0.99\n",
    "#𝑃(−𝑧 < 𝑍 < 𝑧) = 0.99 can also be written as 2*p(-z<Z = 1-0.99)\n",
    "#Therefore p(-z<Z) = 0.005\n",
    "\n",
    "z = stats.norm.ppf(0.005)\n",
    "\n",
    "print(\"-z = -2.575829303548901\\n\\n Therefore z= 2.575\")\n"
   ]
  },
  {
   "cell_type": "code",
   "execution_count": null,
   "metadata": {},
   "outputs": [],
   "source": []
  },
  {
   "cell_type": "markdown",
   "metadata": {},
   "source": [
    "Problem Statement 11:\n",
    "The current flow in a copper wire follow a normal distribution with a mean of 10 𝑚A\n",
    "and a variance of 4 (𝑚𝐴)2.\n",
    "What is the probability that a current measurement will exceed 13 𝑚𝐴? What is the\n",
    "probability that a current measurement is between 9 and 11mA? Determine the\n",
    "current measurement which has a probability of 0.98.\n"
   ]
  },
  {
   "cell_type": "code",
   "execution_count": 15,
   "metadata": {},
   "outputs": [
    {
     "name": "stdout",
     "output_type": "stream",
     "text": [
      "Z value is : 1.5\n",
      "\n",
      "The prob of current>13mA will be P(Z>1.5): 0.0668\n",
      "\n",
      "The central area P(9<Z<11) : 0.3829\n",
      "-2.0537\n",
      "5.8925\n"
     ]
    }
   ],
   "source": [
    "from scipy import stats\n",
    "\n",
    "mean = 10\n",
    "variance = 2\n",
    "x=13\n",
    "\n",
    "#Prob of measurement of >13\n",
    "#z= (X'-μ)/σ\n",
    "\n",
    "Z=(x-mean)/variance\n",
    "#print(z)\n",
    "if ( Z < 0):\n",
    "    p_val = stats.norm.cdf(Z)\n",
    "else:\n",
    "    p_val = 1-stats.norm.cdf(Z)\n",
    "#1-stats.norm.cdf(1.5)\n",
    "print(\"Z value is :\", Z)\n",
    "print(\"\\nThe prob of current>13mA will be P(Z>1.5):\", (round(p_val, 4)))\n",
    "\n",
    "#between 9 and 11 \n",
    "#P(Z> (9-10)/2 =-0.5) and P(Z<(11-10)/2 =0.5)\n",
    "#so P(Z>-0.5) and P(Z<0.5) = p(-0.5<z<0.5)\n",
    "mean = 10\n",
    "x1 = 9\n",
    "x2 = 11\n",
    "variance = 2\n",
    "Z1 = (x1-mean)/variance\n",
    "Z2 = (x2-mean)/variance\n",
    "\n",
    "Z = stats.norm.cdf(Z2)-(stats.norm.cdf(Z1))\n",
    "\n",
    "print(\"\\nThe central area P(9<Z<11) :\" , (round(Z, 4)))\n",
    "\n",
    "#Determine the current measurement which has a probability of 0.98\n",
    "\n",
    "Z = stats.norm.ppf(0.02)\n",
    "print((round(Z, 4)))\n",
    "XBar = (2*((Z)+(mean/variance)))\n",
    "print((round(XBar, 4)))"
   ]
  },
  {
   "cell_type": "code",
   "execution_count": null,
   "metadata": {},
   "outputs": [],
   "source": []
  },
  {
   "cell_type": "markdown",
   "metadata": {},
   "source": [
    "Problem Statement 12:\n",
    "The shaft in a piston has its diameter normally distributed with a mean of 0.2508 inch\n",
    "and a standard deviation of 0.0005 inch. The specifications of the shaft are 0.2500 ∓\n",
    "0.0015 inch. What proportion of shafts are in sync with the specifications? If the\n",
    "process is centered so that the mean is equal to the target value of 0.2500, what\n",
    "proportion of shafts conform to the new specifications? What is your conclusion from\n",
    "this experiment?\n",
    "\n"
   ]
  },
  {
   "cell_type": "code",
   "execution_count": null,
   "metadata": {},
   "outputs": [],
   "source": [
    "from scipy import stats\n",
    "import math"
   ]
  },
  {
   "cell_type": "code",
   "execution_count": 14,
   "metadata": {},
   "outputs": [
    {
     "name": "stdout",
     "output_type": "stream",
     "text": [
      "\n",
      "Z:  0.9192\n",
      "Therefore about 91% of the shaft produced conform to specifications.\n"
     ]
    }
   ],
   "source": [
    "#case 1\n",
    "mu = 0.2508\n",
    "sd = 0.0005\n",
    "#Z = (x - mean)/(sd)\n",
    "#p(0.2485<X<0.2515) \n",
    "Z = stats.norm.cdf(1.4)\n",
    "print(\"\\nZ: \",(round(Z, 4)))\n",
    "print(\"Therefore about 91% of the shaft produced conform to specifications.\")\n"
   ]
  },
  {
   "cell_type": "code",
   "execution_count": 13,
   "metadata": {},
   "outputs": [
    {
     "name": "stdout",
     "output_type": "stream",
     "text": [
      "\n",
      "Z1:  0.9973\n",
      "Therefore about 99% of the shaft produced conform to specifications.\n"
     ]
    }
   ],
   "source": [
    "#case 2\n",
    "#If the process is centered so that the mean is equal to the target value of 0.2500 then \n",
    "#p(0.2485<X<0.2515) \n",
    "Z1 = stats.norm.cdf(3.00)-stats.norm.cdf(-3.00)\n",
    "print(\"\\nZ1: \",(round(Z1, 4)))\n",
    "print(\"Therefore about 99% of the shaft produced conform to specifications.\")"
   ]
  },
  {
   "cell_type": "code",
   "execution_count": null,
   "metadata": {},
   "outputs": [],
   "source": []
  },
  {
   "cell_type": "code",
   "execution_count": null,
   "metadata": {},
   "outputs": [],
   "source": []
  }
 ],
 "metadata": {
  "kernelspec": {
   "display_name": "Python 3",
   "language": "python",
   "name": "python3"
  },
  "language_info": {
   "codemirror_mode": {
    "name": "ipython",
    "version": 3
   },
   "file_extension": ".py",
   "mimetype": "text/x-python",
   "name": "python",
   "nbconvert_exporter": "python",
   "pygments_lexer": "ipython3",
   "version": "3.7.4"
  }
 },
 "nbformat": 4,
 "nbformat_minor": 2
}
