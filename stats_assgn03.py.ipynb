{
 "cells": [
  {
   "cell_type": "markdown",
   "metadata": {},
   "source": [
    "assignment 3\n",
    "\n",
    "Blood glucose levels for obese patients have a mean of 100 with a standard deviation of\n",
    "15.A researcher thinks that a diet high in raw cornstarch will have a positive effect on\n",
    "blood glucose levels. A sample of 36 patients who have tried the raw cornstarch diet\n",
    "have a mean glucose level of 108. Test the hypothesis that the raw cornstarch had an\n",
    "effect or not."
   ]
  },
  {
   "cell_type": "code",
   "execution_count": 1,
   "metadata": {},
   "outputs": [
    {
     "name": "stdout",
     "output_type": "stream",
     "text": [
      "3.2\n",
      "Since Z cal > Z alpha, we reject Ho at 5% l.o.s. and therefore \n",
      "the raw cornstarch had an effect on the mean glucose level.\n"
     ]
    }
   ],
   "source": [
    "from scipy import stats\n",
    "import math\n",
    "\n",
    "#Ho : mu = 100\n",
    "#Ha : mu not equal to  100\n",
    "\n",
    "xbar = 108\n",
    "mu  = 100\n",
    "standard_deviation = 15\n",
    "n = 36\n",
    "alph  = 0.05\n",
    "\n",
    "Z = (xbar-mu)/((standard_deviation)/(math.sqrt(n)))\n",
    "print(Z)\n",
    "#Z (alpha/2) = Z (0.025) = 1.96\n",
    "#since Z is greater than Zalpha\n",
    "print(\"Since Z cal > Z alpha, we reject Ho at 5% l.o.s. and therefore \\nthe raw cornstarch had an effect on the mean glucose level.\")\n"
   ]
  },
  {
   "cell_type": "code",
   "execution_count": null,
   "metadata": {},
   "outputs": [],
   "source": []
  },
  {
   "cell_type": "markdown",
   "metadata": {},
   "source": [
    "problem statement 2: In one state, 52% of the voters are Republicans, and 48% are Democrats. In a second\n",
    "state, 47% of the voters are Republicans, and 53% are Democrats. Suppose a simple\n",
    "random sample of 100 voters are surveyed from each state.\n",
    "What is the probability that the survey will show a greater percentage of Republican\n",
    "voters in the second state than in the first state?"
   ]
  },
  {
   "cell_type": "code",
   "execution_count": 25,
   "metadata": {},
   "outputs": [
    {
     "name": "stdout",
     "output_type": "stream",
     "text": [
      "E_p1_p2 0.050000000000000044\n",
      "\n",
      "Standard error 0.07061869440877536\n",
      "\n",
      "Z(p1-p2) -0.7080278164104213\n",
      "\n",
      "P(Z<-0.070) 0.23946399182220013\n"
     ]
    }
   ],
   "source": [
    "from scipy import stats\n",
    "import math\n",
    "\n",
    "n1 = 100\n",
    "n2 = 100\n",
    "p1 = 0.52\n",
    "q1 = 0.48\n",
    "p2 = 0.47\n",
    "q2 =0.53\n",
    "\n",
    "#Mean of the difference in sample proportions: \n",
    "\n",
    "E_p1_p2 = 0.52 - 0.47 \n",
    "print(\"E_p1_p2\",E_p1_p2)\n",
    "\n",
    "#standard deviation(standard error)\n",
    "\n",
    "SE = math.sqrt((((p1)*(q1))/ n1 ) + (((p2)*(q2))/ n2))\n",
    "print(\"\\nStandard error\",SE)\n",
    "\n",
    "#z p1 - p2 = (x - μ p1 - p2 ) / σd \n",
    "z = (0 - E_p1_p2)/SE\n",
    "print(\"\\nZ(p1-p2)\",z)\n",
    "\n",
    "p_val = stats.norm.cdf(z)\n",
    "print(\"\\nP(Z<-0.070)\",p_val)\n"
   ]
  },
  {
   "cell_type": "code",
   "execution_count": null,
   "metadata": {},
   "outputs": [],
   "source": []
  },
  {
   "cell_type": "markdown",
   "metadata": {},
   "source": [
    "problem statement 3: You take the SAT and score 1100. The mean score for the SAT is 1026 and the standard\n",
    "deviation is 209. How well did you score on the test compared to the average test taker?"
   ]
  },
  {
   "cell_type": "code",
   "execution_count": 4,
   "metadata": {},
   "outputs": [
    {
     "name": "stdout",
     "output_type": "stream",
     "text": [
      "The score was  0.35406698564593303  standard deviation above the mean \n"
     ]
    }
   ],
   "source": [
    "from scipy import stats\n",
    "\n",
    "\n",
    "mu  = 1026\n",
    "standard_deviation = 209\n",
    "X = 1100\n",
    "\n",
    "Z = (X-mu)/(standard_deviation)    \n",
    "print(\"The score was \", Z ,\" standard deviation above the mean \")"
   ]
  },
  {
   "cell_type": "code",
   "execution_count": null,
   "metadata": {},
   "outputs": [],
   "source": []
  }
 ],
 "metadata": {
  "kernelspec": {
   "display_name": "Python 3",
   "language": "python",
   "name": "python3"
  },
  "language_info": {
   "codemirror_mode": {
    "name": "ipython",
    "version": 3
   },
   "file_extension": ".py",
   "mimetype": "text/x-python",
   "name": "python",
   "nbconvert_exporter": "python",
   "pygments_lexer": "ipython3",
   "version": "3.7.4"
  }
 },
 "nbformat": 4,
 "nbformat_minor": 2
}
